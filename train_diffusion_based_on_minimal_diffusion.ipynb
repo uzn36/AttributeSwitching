{
 "cells": [
  {
   "cell_type": "code",
   "execution_count": 1,
   "id": "cba4ab62",
   "metadata": {},
   "outputs": [],
   "source": [
    "import torch\n",
    "import sys; sys.path.insert(0, '..')"
   ]
  },
  {
   "cell_type": "markdown",
   "id": "02a7b34e",
   "metadata": {},
   "source": [
    "## Preparing data"
   ]
  },
  {
   "cell_type": "code",
   "execution_count": 2,
   "id": "72571755",
   "metadata": {},
   "outputs": [],
   "source": [
    "#Enter data path: please download celebA dataset or FairFace data set and make pt file with corresponding attribute.\n",
    "sampled_train = torch.load()\n",
    "sampled_label = torch.load()"
   ]
  },
  {
   "cell_type": "code",
   "execution_count": 3,
   "id": "d67e549e",
   "metadata": {},
   "outputs": [],
   "source": [
    "import torch\n",
    "from torch.utils.data import TensorDataset, DataLoader"
   ]
  },
  {
   "cell_type": "code",
   "execution_count": 4,
   "id": "31eb65ce",
   "metadata": {},
   "outputs": [],
   "source": [
    "sampled_dataset  = TensorDataset(sampled_train, sampled_label)"
   ]
  },
  {
   "cell_type": "markdown",
   "id": "49cad51c",
   "metadata": {},
   "source": [
    "## Training Diffusion"
   ]
  },
  {
   "cell_type": "code",
   "execution_count": 5,
   "id": "8498487a",
   "metadata": {},
   "outputs": [],
   "source": [
    "import argparse"
   ]
  },
  {
   "cell_type": "code",
   "execution_count": 6,
   "id": "8e550ab4",
   "metadata": {},
   "outputs": [],
   "source": [
    "import os\n",
    "import numpy as np\n",
    "import warnings\n",
    "import argparse\n",
    "import sys\n",
    "\n",
    "# warnings.filterwarnings(\"ignore\")\n",
    "# if os.getcwd()[-3:]=='run':\n",
    "#     os.chdir('..')\n",
    "\n",
    "# os.environ[\"CUDA_VISIBLE_DEVICES\"] = \"1\" # Possible GPUS"
   ]
  },
  {
   "cell_type": "code",
   "execution_count": 7,
   "id": "4a1dabfd",
   "metadata": {},
   "outputs": [],
   "source": [
    "from main import *"
   ]
  },
  {
   "cell_type": "code",
   "execution_count": 8,
   "id": "42fa22da",
   "metadata": {},
   "outputs": [],
   "source": [
    "def parse_args():\n",
    "    parser = argparse.ArgumentParser(description='.')\n",
    "    parser.add_argument(\"--arch\", type=str, help=\"Neural network architecture\")\n",
    "    parser.add_argument(\n",
    "        \"--class-cond\",\n",
    "        action=\"store_true\",\n",
    "        default=False,\n",
    "        help=\"train class-conditioned diffusion model\",\n",
    "    )\n",
    "    parser.add_argument(\n",
    "        \"--diffusion-steps\",\n",
    "        type=int,\n",
    "        default=1000,\n",
    "        help=\"Number of timesteps in diffusion process\",\n",
    "    )\n",
    "    parser.add_argument(\n",
    "        \"--sampling-steps\",\n",
    "        type=int,\n",
    "        default=250,\n",
    "        help=\"Number of timesteps in diffusion process\",\n",
    "    )\n",
    "    parser.add_argument(\n",
    "        \"--ddim\",\n",
    "        action=\"store_true\",\n",
    "        default=False,\n",
    "        help=\"Sampling using DDIM update step\",\n",
    "    )\n",
    "    # dataset\n",
    "    parser.add_argument(\"--dataset\", type=str)\n",
    "    parser.add_argument(\"--data-dir\", type=str, default=\"./dataset/\")\n",
    "    # optimizer\n",
    "    parser.add_argument(\n",
    "        \"--batch-size\", type=int, default=128, help=\"batch-size per gpu\"\n",
    "    )\n",
    "    parser.add_argument(\"--lr\", type=float, default=0.0001)\n",
    "    parser.add_argument(\"--epochs\", type=int, default=500)\n",
    "    parser.add_argument(\"--ema_w\", type=float, default=0.9995)\n",
    "    # sampling/finetuning\n",
    "    parser.add_argument(\"--pretrained-ckpt\", type=str, help=\"Pretrained model ckpt\")\n",
    "    parser.add_argument(\"--delete-keys\", nargs=\"+\", help=\"Pretrained model ckpt\")\n",
    "    parser.add_argument(\n",
    "        \"--sampling-only\",\n",
    "        action=\"store_true\",\n",
    "        default=False,\n",
    "        help=\"No training, just sample images (will save them in --save-dir)\",\n",
    "    )\n",
    "    parser.add_argument(\n",
    "        \"--num-sampled-images\",\n",
    "        type=int,\n",
    "        default=50000,\n",
    "        help=\"Number of images required to sample from the model\",\n",
    "    )\n",
    "\n",
    "    # misc\n",
    "    parser.add_argument(\"--save-dir\", type=str, default=\"./trained_models/\")\n",
    "    parser.add_argument(\"--local_rank\", default=0, type=int)\n",
    "    parser.add_argument(\"--seed\", default=112233, type=int)\n",
    "\n",
    "    args = parser.parse_args(args=[])\n",
    "    warnings.filterwarnings(\"ignore\")\n",
    "\n",
    "    return args"
   ]
  },
  {
   "cell_type": "code",
   "execution_count": 9,
   "id": "50c866f4",
   "metadata": {},
   "outputs": [],
   "source": [
    "args = parse_args()"
   ]
  },
  {
   "cell_type": "code",
   "execution_count": 10,
   "id": "de55a3e0",
   "metadata": {},
   "outputs": [],
   "source": [
    "args.arch = \"UNet\"\n",
    "args.dataset = \"celeba\"\n",
    "args.epoch = 30  \n",
    "args.save_dir = './models/'\n",
    "args.data_dir = '../data/'\n",
    "args.ddim = True \n",
    "args.epochs = 100"
   ]
  },
  {
   "cell_type": "code",
   "execution_count": 11,
   "id": "2f815e74",
   "metadata": {},
   "outputs": [
    {
     "data": {
      "text/plain": [
       "Namespace(arch='UNet', batch_size=128, class_cond=False, data_dir='../data/', dataset='celeba', ddim=True, delete_keys=None, diffusion_steps=1000, ema_w=0.9995, epoch=30, epochs=100, local_rank=0, lr=0.0001, num_sampled_images=50000, pretrained_ckpt=None, sampling_only=False, sampling_steps=250, save_dir='./models/', seed=112233)"
      ]
     },
     "execution_count": 11,
     "metadata": {},
     "output_type": "execute_result"
    }
   ],
   "source": [
    "args"
   ]
  },
  {
   "cell_type": "code",
   "execution_count": 12,
   "id": "5a08206b",
   "metadata": {},
   "outputs": [],
   "source": [
    "os.environ[\"RANK\"] = \"0\"\n",
    "os.environ[\"WORLD_SIZE\"] = \"1\"\n",
    "os.environ[\"MASTER_ADDR\"] = \"localhost\"\n",
    "os.environ[\"MASTER_PORT\"] = \"29506\""
   ]
  },
  {
   "cell_type": "code",
   "execution_count": 13,
   "id": "e3b9718d",
   "metadata": {},
   "outputs": [],
   "source": [
    "def cleanup():\n",
    "    dist.destroy_process_group()\n",
    "    \n",
    "# setup(int(os.environ[\"RANK\"]), int(os.environ[\"WORLD_SIZE\"]))"
   ]
  },
  {
   "cell_type": "code",
   "execution_count": 14,
   "id": "2ab6685c",
   "metadata": {},
   "outputs": [],
   "source": [
    "metadata = get_metadata(args.dataset)\n",
    "metadata.num_classes = 2\n",
    "# metadata.train_images = len(sampled_label)\n",
    "# metadata.val_images = 3641#len(test_sampled_label)"
   ]
  },
  {
   "cell_type": "code",
   "execution_count": 15,
   "id": "a6c57c75",
   "metadata": {},
   "outputs": [
    {
     "data": {
      "text/plain": [
       "{'image_size': 64,\n",
       " 'num_classes': 2,\n",
       " 'train_images': 109036,\n",
       " 'val_images': 12376,\n",
       " 'num_channels': 3}"
      ]
     },
     "execution_count": 15,
     "metadata": {},
     "output_type": "execute_result"
    }
   ],
   "source": [
    "metadata"
   ]
  },
  {
   "cell_type": "code",
   "execution_count": 16,
   "id": "1cf404e5",
   "metadata": {},
   "outputs": [],
   "source": [
    "# metadata.image_size = 64\n",
    "data_type = 'gender'\n",
    "args.batch_size = 128\n",
    "args.lr=0.00005\n",
    "\n",
    "args.name ='bs%s_lr%s_%s'%(args.batch_size , args.lr, data_type)\n",
    "args.class_cond = True"
   ]
  },
  {
   "cell_type": "code",
   "execution_count": 17,
   "id": "61b119bc",
   "metadata": {},
   "outputs": [
    {
     "data": {
      "text/plain": [
       "'bs128_lr5e-05_gender'"
      ]
     },
     "execution_count": 17,
     "metadata": {},
     "output_type": "execute_result"
    }
   ],
   "source": [
    "args.name"
   ]
  },
  {
   "cell_type": "code",
   "execution_count": 18,
   "id": "95425062",
   "metadata": {
    "scrolled": true
   },
   "outputs": [
    {
     "name": "stdout",
     "output_type": "stream",
     "text": [
      "Namespace(arch='UNet', batch_size=128, class_cond=True, data_dir='../data/', dataset='celeba', ddim=True, delete_keys=None, device='cuda:0', diffusion_steps=1000, ema_w=0.9995, epoch=30, epochs=100, local_rank=0, lr=5e-05, name='bs128_lr5e-05_gender', num_sampled_images=50000, pretrained_ckpt=None, sampling_only=False, sampling_steps=250, save_dir='./models/', seed=112233)\n",
      "We are assuming that model input/ouput pixel range is [-1, 1]. Please adhere to it.\n"
     ]
    }
   ],
   "source": [
    "torch.backends.cudnn.benchmark = True\n",
    "args.device = \"cuda:{}\".format(args.local_rank)\n",
    "torch.cuda.set_device(args.device)\n",
    "torch.manual_seed(args.seed + args.local_rank)\n",
    "np.random.seed(args.seed + args.local_rank)\n",
    "if args.local_rank == 0:\n",
    "    print(args)\n",
    "\n",
    "# Creat model and diffusion process\n",
    "model = unets.__dict__[args.arch](\n",
    "    image_size=metadata.image_size,\n",
    "    in_channels=metadata.num_channels,\n",
    "    out_channels=metadata.num_channels,\n",
    "    num_classes=metadata.num_classes if args.class_cond else None,\n",
    ").to(args.device)\n",
    "if args.local_rank == 0:\n",
    "    print(\n",
    "        \"We are assuming that model input/ouput pixel range is [-1, 1]. Please adhere to it.\"\n",
    "    )\n",
    "diffusion = GuassianDiffusion(args.diffusion_steps, args.device)\n",
    "optimizer = torch.optim.AdamW(model.parameters(), lr=args.lr)\n",
    "\n"
   ]
  },
  {
   "cell_type": "code",
   "execution_count": 20,
   "id": "10863521",
   "metadata": {},
   "outputs": [
    {
     "name": "stdout",
     "output_type": "stream",
     "text": [
      "ngpus 4\n",
      "Using distributed training on 4 gpus.\n"
     ]
    }
   ],
   "source": [
    "# load pre-trained model\n",
    "if args.pretrained_ckpt:\n",
    "    print(f\"Loading pretrained model from {args.pretrained_ckpt}\")\n",
    "    d = fix_legacy_dict(torch.load(args.pretrained_ckpt, map_location=args.device))\n",
    "    dm = model.state_dict()\n",
    "    if args.delete_keys:\n",
    "        for k in args.delete_keys:\n",
    "            print(\n",
    "                f\"Deleting key {k} becuase its shape in ckpt ({d[k].shape}) doesn't match \"\n",
    "                + f\"with shape in model ({dm[k].shape})\"\n",
    "            )\n",
    "            del d[k]\n",
    "    model.load_state_dict(d, strict=False)\n",
    "    print(\n",
    "        f\"Mismatched keys in ckpt and model: \",\n",
    "        set(d.keys()) ^ set(dm.keys()),\n",
    "    )\n",
    "    print(f\"Loaded pretrained model from {args.pretrained_ckpt}\")\n",
    "# distributed training\n",
    "ngpus = torch.cuda.device_count()\n",
    "print(\"ngpus\",ngpus)\n",
    "if ngpus > 1:\n",
    "    if args.local_rank == 0:\n",
    "        print(f\"Using distributed training on {ngpus} gpus.\")\n",
    "    args.batch_size = args.batch_size // ngpus\n",
    "    \n",
    "    \n",
    "torch.distributed.init_process_group(backend=\"nccl\", init_method=\"env://\") \n",
    "model = DDP(model, device_ids=[args.local_rank], output_device=args.local_rank)\n",
    "\n",
    "# sampling\n",
    "if args.sampling_only:\n",
    "    sampled_images, labels = sample_N_images(\n",
    "        args.num_sampled_images,\n",
    "        model,\n",
    "        diffusion,\n",
    "        None,\n",
    "        args.sampling_steps,\n",
    "        args.batch_size,\n",
    "        metadata.num_channels,\n",
    "        metadata.image_size,\n",
    "        metadata.num_classes,\n",
    "        args,\n",
    "    )\n",
    "    np.savez(\n",
    "        os.path.join(\n",
    "            args.save_dir,\n",
    "            f\"{args.arch}_{args.dataset}-{args.sampling_steps}-sampling_steps-{len(sampled_images)}_images-class_condn_{args.class_cond}_{args.name}.npz\",\n",
    "        ),\n",
    "        sampled_images,\n",
    "        labels,\n",
    "    )\n",
    "    sys.exit()\n",
    "\n"
   ]
  },
  {
   "cell_type": "code",
   "execution_count": 21,
   "id": "f7316452",
   "metadata": {},
   "outputs": [
    {
     "name": "stdout",
     "output_type": "stream",
     "text": [
      "Training dataset loaded: Number of batches: 899, Number of images: 28759\n"
     ]
    }
   ],
   "source": [
    "# ngpus = torch.cuda.device_count()\n",
    "\n",
    "# Load dataset\n",
    "# train_set = get_dataset(args.dataset, args.data_dir, metadata)\n",
    "train_set = sampled_dataset\n",
    "sampler = DistributedSampler(train_set) if ngpus > 1 else None\n",
    "train_loader = DataLoader(\n",
    "    train_set,\n",
    "    batch_size=args.batch_size,\n",
    "    shuffle=sampler is None,#####\n",
    "    sampler=sampler,\n",
    "    num_workers=4,\n",
    "    pin_memory=True,\n",
    ")\n",
    "if args.local_rank == 0:\n",
    "    print(\n",
    "        f\"Training dataset loaded: Number of batches: {len(train_loader)}, Number of images: {len(train_set)}\"\n",
    "    )\n",
    "logger = loss_logger(len(train_loader) * args.epochs)\n",
    "\n",
    "# ema model\n",
    "args.ema_dict = copy.deepcopy(model.state_dict())\n",
    "    "
   ]
  },
  {
   "cell_type": "code",
   "execution_count": 22,
   "id": "01d6a69f",
   "metadata": {},
   "outputs": [],
   "source": [
    "def sample_N_images(\n",
    "    N,\n",
    "    model,\n",
    "    diffusion,\n",
    "    xT=None,\n",
    "    sampling_steps=250,\n",
    "    batch_size=64,\n",
    "    num_channels=3,\n",
    "    image_size=32,\n",
    "    num_classes=None,\n",
    "    args=None,\n",
    "):\n",
    "    \"\"\"use this function to sample any number of images from a given\n",
    "        diffusion model and diffusion process.\n",
    "\n",
    "    Args:\n",
    "        N : Number of images\n",
    "        model : Diffusion model\n",
    "        diffusion : Diffusion process\n",
    "        xT : Starting instantiation of noise vector.\n",
    "        sampling_steps : Number of sampling steps.\n",
    "        batch_size : Batch-size for sampling.\n",
    "        num_channels : Number of channels in the image.\n",
    "        image_size : Image size (assuming square images).\n",
    "        num_classes : Number of classes in the dataset (needed for class-conditioned models)\n",
    "        args : All args from the argparser.\n",
    "\n",
    "    Returns: Numpy array with N images and corresponding labels.\n",
    "    \"\"\"\n",
    "    samples, labels, num_samples = [], [], 0\n",
    "    num_processes, group = dist.get_world_size(), dist.group.WORLD\n",
    "    with tqdm(total=math.ceil(N / (args.batch_size * num_processes))) as pbar:\n",
    "        while num_samples < N:\n",
    "            if xT is None:\n",
    "                xT = (\n",
    "                    torch.randn(batch_size, num_channels, image_size, image_size)\n",
    "                    .float()\n",
    "                    .to(args.device)\n",
    "                )\n",
    "            if args.class_cond:\n",
    "                y = torch.randint(num_classes, (len(xT),), dtype=torch.int64).to(\n",
    "                    args.device\n",
    "                )\n",
    "            else:\n",
    "                y = None\n",
    "            gen_images = diffusion.sample_from_reverse_process(\n",
    "                model, xT, sampling_steps, {\"y\": y}, args.ddim\n",
    "            )\n",
    "            samples_list = [torch.zeros_like(gen_images) for _ in range(num_processes)]\n",
    "            if args.class_cond:\n",
    "                labels_list = [torch.zeros_like(y) for _ in range(num_processes)]\n",
    "                dist.all_gather(labels_list, y, group)\n",
    "                labels.append(torch.cat(labels_list).detach().cpu().numpy())\n",
    "\n",
    "            dist.all_gather(samples_list, gen_images, group)\n",
    "            samples.append(torch.cat(samples_list).detach().cpu().numpy())\n",
    "            num_samples += len(xT) * num_processes\n",
    "            pbar.update(1)\n",
    "    samples = np.concatenate(samples).transpose(0, 2, 3, 1)[:N]\n",
    "    samples = (127.5 * (samples + 1)).astype(np.uint8)\n",
    "    return (samples, np.concatenate(labels) if args.class_cond else None)\n",
    "\n"
   ]
  },
  {
   "cell_type": "code",
   "execution_count": 23,
   "id": "51d5e0bb",
   "metadata": {},
   "outputs": [],
   "source": [
    "ngpus = torch.cuda.device_count()"
   ]
  },
  {
   "cell_type": "code",
   "execution_count": null,
   "id": "c6f62b44",
   "metadata": {
    "scrolled": true
   },
   "outputs": [
    {
     "name": "stdout",
     "output_type": "stream",
     "text": [
      "Steps: 1/89900 \t loss (ema): 0.999 \t Time elapsed: 0.001 hr\n"
     ]
    }
   ],
   "source": [
    "for epoch in range(args.epochs):\n",
    "    if sampler is not None:\n",
    "        sampler.set_epoch(epoch)\n",
    "    #####\n",
    "    train_one_epoch(model, train_loader, diffusion, optimizer, logger, None, args)\n",
    "    \n",
    "    if not epoch % 1:\n",
    "        sampled_images, sampled_label = sample_N_images(\n",
    "            64,\n",
    "            model,\n",
    "            diffusion,\n",
    "            None,\n",
    "            args.sampling_steps,\n",
    "            args.batch_size,\n",
    "            metadata.num_channels,\n",
    "            metadata.image_size,\n",
    "            metadata.num_classes,\n",
    "            args,\n",
    "        )\n",
    "        if args.local_rank == 0:\n",
    "            cv2.imwrite(\n",
    "                os.path.join(\n",
    "                    args.save_dir,\n",
    "                    f\"{args.arch}_{args.dataset}-{args.diffusion_steps}_steps-{args.sampling_steps}-sampling_steps-class_condn_{args.class_cond}_{args.name}.png\",\n",
    "                ),\n",
    "                np.concatenate(sampled_images, axis=1)[:, :, ::-1],\n",
    "            )\n",
    "            print(sampled_label)\n",
    "    if args.local_rank == 0:\n",
    "        torch.save(\n",
    "            model.state_dict(),\n",
    "            os.path.join(\n",
    "                args.save_dir,\n",
    "                f\"{args.arch}_{args.dataset}-epoch_{args.epochs}-timesteps_{args.diffusion_steps}-class_condn_{args.class_cond}_{args.name}.pt\",\n",
    "            ),\n",
    "        )\n",
    "        torch.save(\n",
    "            args.ema_dict,\n",
    "            os.path.join(\n",
    "                args.save_dir,\n",
    "                f\"{args.arch}_{args.dataset}-epoch_{args.epochs}-timesteps_{args.diffusion_steps}-class_condn_{args.class_cond}_ema_{args.ema_w}_{args.name}.pt\",\n",
    "            ),\n",
    "        )\n",
    "\n",
    "        \n",
    "# cleanup()\n"
   ]
  }
 ],
 "metadata": {
  "kernelspec": {
   "display_name": "torch13",
   "language": "python",
   "name": "uzntorch13"
  },
  "language_info": {
   "codemirror_mode": {
    "name": "ipython",
    "version": 3
   },
   "file_extension": ".py",
   "mimetype": "text/x-python",
   "name": "python",
   "nbconvert_exporter": "python",
   "pygments_lexer": "ipython3",
   "version": "3.8.18"
  }
 },
 "nbformat": 4,
 "nbformat_minor": 5
}
