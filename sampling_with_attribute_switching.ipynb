{
 "cells": [
  {
   "cell_type": "code",
   "execution_count": 2,
   "id": "98edb123",
   "metadata": {},
   "outputs": [],
   "source": [
    "import os\n",
    "os.environ[\"CUDA_VISIBLE_DEVICES\"] = \"1\" "
   ]
  },
  {
   "cell_type": "code",
   "execution_count": 3,
   "id": "cba4ab62",
   "metadata": {},
   "outputs": [],
   "source": [
    "import torch\n",
    "import sys; sys.path.insert(0, '..')\n"
   ]
  },
  {
   "cell_type": "code",
   "execution_count": 4,
   "id": "4cec09ea",
   "metadata": {},
   "outputs": [],
   "source": [
    "import torch\n",
    "from torch.utils.data import TensorDataset, DataLoader"
   ]
  },
  {
   "cell_type": "code",
   "execution_count": 5,
   "id": "8498487a",
   "metadata": {},
   "outputs": [],
   "source": [
    "import argparse"
   ]
  },
  {
   "cell_type": "code",
   "execution_count": 6,
   "id": "8e550ab4",
   "metadata": {},
   "outputs": [],
   "source": [
    "import os\n",
    "import numpy as np\n",
    "import torch\n",
    "import warnings\n",
    "import argparse\n",
    "import sys"
   ]
  },
  {
   "cell_type": "code",
   "execution_count": 8,
   "id": "4a1dabfd",
   "metadata": {},
   "outputs": [],
   "source": [
    "from main import *"
   ]
  },
  {
   "cell_type": "code",
   "execution_count": 9,
   "id": "42fa22da",
   "metadata": {},
   "outputs": [],
   "source": [
    "def parse_args():\n",
    "    parser = argparse.ArgumentParser(description='.')\n",
    "    parser.add_argument(\"--arch\", type=str, help=\"Neural network architecture\")\n",
    "    parser.add_argument(\n",
    "        \"--class-cond\",\n",
    "        action=\"store_true\",\n",
    "        default=False,\n",
    "        help=\"train class-conditioned diffusion model\",\n",
    "    )\n",
    "    parser.add_argument(\n",
    "        \"--diffusion-steps\",\n",
    "        type=int,\n",
    "        default=1000,\n",
    "        help=\"Number of timesteps in diffusion process\",\n",
    "    )\n",
    "    parser.add_argument(\n",
    "        \"--sampling-steps\",\n",
    "        type=int,\n",
    "        default=250,\n",
    "        help=\"Number of timesteps in diffusion process\",\n",
    "    )\n",
    "    parser.add_argument(\n",
    "        \"--ddim\",\n",
    "        action=\"store_true\",\n",
    "        default=False,\n",
    "        help=\"Sampling using DDIM update step\",\n",
    "    )\n",
    "    # dataset\n",
    "    parser.add_argument(\"--dataset\", type=str)\n",
    "    parser.add_argument(\"--data-dir\", type=str, default=\"./dataset/\")\n",
    "    # optimizer\n",
    "    parser.add_argument(\n",
    "        \"--batch-size\", type=int, default=128, help=\"batch-size per gpu\"\n",
    "    )\n",
    "    parser.add_argument(\"--lr\", type=float, default=0.0001)\n",
    "    parser.add_argument(\"--epochs\", type=int, default=500)\n",
    "    parser.add_argument(\"--ema_w\", type=float, default=0.9995)\n",
    "    # sampling/finetuning\n",
    "    parser.add_argument(\"--pretrained-ckpt\", type=str, help=\"Pretrained model ckpt\")\n",
    "    parser.add_argument(\"--delete-keys\", nargs=\"+\", help=\"Pretrained model ckpt\")\n",
    "    parser.add_argument(\n",
    "        \"--sampling-only\",\n",
    "        action=\"store_true\",\n",
    "        default=False,\n",
    "        help=\"No training, just sample images (will save them in --save-dir)\",\n",
    "    )\n",
    "    parser.add_argument(\n",
    "        \"--num-sampled-images\",\n",
    "        type=int,\n",
    "        default=50000,\n",
    "        help=\"Number of images required to sample from the model\",\n",
    "    )\n",
    "\n",
    "    # misc\n",
    "    parser.add_argument(\"--save-dir\", type=str, default=\"./trained_models/\")\n",
    "    parser.add_argument(\"--local_rank\", default=0, type=int)\n",
    "#     parser.add_argument(\"--seed\", default=112233, type=int)\n",
    "\n",
    "    args = parser.parse_args(args=[])\n",
    "    warnings.filterwarnings(\"ignore\")\n",
    "\n",
    "    return args"
   ]
  },
  {
   "cell_type": "code",
   "execution_count": 10,
   "id": "50c866f4",
   "metadata": {},
   "outputs": [],
   "source": [
    "args = parse_args()"
   ]
  },
  {
   "cell_type": "code",
   "execution_count": 11,
   "id": "de55a3e0",
   "metadata": {},
   "outputs": [],
   "source": [
    "args.arch = \"UNet\"\n",
    "args.dataset = \"celeba\"\n",
    "args.epoch = 30  \n",
    "args.save_dir = './models/'\n",
    "args.data_dir = '../data/'\n",
    "args.ddim = True \n",
    "args.epochs = 100\n",
    "# args.batch_size = 64"
   ]
  },
  {
   "cell_type": "code",
   "execution_count": 12,
   "id": "57194089",
   "metadata": {},
   "outputs": [],
   "source": [
    "args.class_cond = True"
   ]
  },
  {
   "cell_type": "code",
   "execution_count": 13,
   "id": "2f815e74",
   "metadata": {},
   "outputs": [
    {
     "data": {
      "text/plain": [
       "Namespace(arch='UNet', batch_size=128, class_cond=True, data_dir='../data/', dataset='celeba', ddim=True, delete_keys=None, diffusion_steps=1000, ema_w=0.9995, epoch=30, epochs=100, local_rank=0, lr=0.0001, num_sampled_images=50000, pretrained_ckpt=None, sampling_only=False, sampling_steps=250, save_dir='./models/')"
      ]
     },
     "execution_count": 13,
     "metadata": {},
     "output_type": "execute_result"
    }
   ],
   "source": [
    "args"
   ]
  },
  {
   "cell_type": "code",
   "execution_count": 14,
   "id": "5a08206b",
   "metadata": {},
   "outputs": [],
   "source": [
    "os.environ[\"RANK\"] = \"0\"\n",
    "os.environ[\"WORLD_SIZE\"] = \"1\"\n",
    "os.environ[\"MASTER_ADDR\"] = \"localhost\"\n",
    "os.environ[\"MASTER_PORT\"] = \"29522\"## 여러개 돌리려면 이 숫자 바꿔줘야함"
   ]
  },
  {
   "cell_type": "code",
   "execution_count": 15,
   "id": "e3b9718d",
   "metadata": {},
   "outputs": [],
   "source": [
    "def cleanup():\n",
    "    dist.destroy_process_group()\n",
    "    \n",
    "# setup(int(os.environ[\"RANK\"]), int(os.environ[\"WORLD_SIZE\"]))"
   ]
  },
  {
   "cell_type": "code",
   "execution_count": 16,
   "id": "2ab6685c",
   "metadata": {},
   "outputs": [],
   "source": [
    "metadata = get_metadata('celeba')\n",
    "metadata.num_classes = 2\n",
    "# metadata.train_images = len(n(test_sampled_label)"
   ]
  },
  {
   "cell_type": "code",
   "execution_count": 17,
   "id": "a6c57c75",
   "metadata": {},
   "outputs": [
    {
     "data": {
      "text/plain": [
       "{'image_size': 64,\n",
       " 'num_classes': 2,\n",
       " 'train_images': 109036,\n",
       " 'val_images': 12376,\n",
       " 'num_channels': 3}"
      ]
     },
     "execution_count": 17,
     "metadata": {},
     "output_type": "execute_result"
    }
   ],
   "source": [
    "metadata"
   ]
  },
  {
   "cell_type": "code",
   "execution_count": 18,
   "id": "47f91720",
   "metadata": {},
   "outputs": [
    {
     "name": "stdout",
     "output_type": "stream",
     "text": [
      "Namespace(arch='UNet', batch_size=128, class_cond=True, data_dir='../data/', dataset='celeba', ddim=True, delete_keys=None, device='cuda:0', diffusion_steps=1000, ema_w=0.9995, epoch=30, epochs=100, local_rank=0, lr=0.0001, num_sampled_images=50000, pretrained_ckpt=None, sampling_only=False, sampling_steps=250, save_dir='./models/')\n",
      "We are assuming that model input/ouput pixel range is [-1, 1]. Please adhere to it.\n"
     ]
    }
   ],
   "source": [
    "torch.backends.cudnn.benchmark = True\n",
    "args.device = \"cuda:{}\".format(args.local_rank)\n",
    "torch.cuda.set_device(args.device)\n",
    "# torch.manual_seed(args.seed + args.local_rank)\n",
    "# np.random.seed(args.seed + args.local_rank)\n",
    "if args.local_rank == 0:\n",
    "    print(args)\n",
    "\n",
    "# Creat model and diffusion process\n",
    "model = unets.__dict__[args.arch](\n",
    "    image_size=metadata.image_size,\n",
    "    in_channels=metadata.num_channels,\n",
    "    out_channels=metadata.num_channels,\n",
    "    num_classes=metadata.num_classes if args.class_cond else None,\n",
    ").to(args.device)\n",
    "if args.local_rank == 0:\n",
    "    print(\n",
    "        \"We are assuming that model input/ouput pixel range is [-1, 1]. Please adhere to it.\"\n",
    "    )\n",
    "diffusion = GuassianDiffusion(args.diffusion_steps, args.device)\n",
    "optimizer = torch.optim.AdamW(model.parameters(), lr=args.lr)\n",
    "\n"
   ]
  },
  {
   "cell_type": "code",
   "execution_count": 19,
   "id": "03b521e4",
   "metadata": {},
   "outputs": [],
   "source": [
    "model_name = 'ENTER_MODEL_NAME.pt'"
   ]
  },
  {
   "cell_type": "code",
   "execution_count": 20,
   "id": "5adda4e1",
   "metadata": {},
   "outputs": [],
   "source": [
    "def load_model(model_name, model_location = './models/'):\n",
    "    model = unets.__dict__[args.arch](\n",
    "        image_size=metadata.image_size,\n",
    "        in_channels=metadata.num_channels,\n",
    "        out_channels=metadata.num_channels,\n",
    "        num_classes=metadata.num_classes if args.class_cond else None,\n",
    "        ).to(device)\n",
    "    pretrained_ckpt = model_location + model_name\n",
    "    print(f\"Loading pretrained model from {pretrained_ckpt}\")\n",
    "    d = fix_legacy_dict(torch.load(pretrained_ckpt, map_location=args.device))\n",
    "    dm = model.state_dict()\n",
    "    if args.delete_keys:\n",
    "        for k in args.delete_keys:\n",
    "            print(\n",
    "                f\"Deleting key {k} becuase its shape in ckpt ({d[k].shape}) doesn't match \"\n",
    "                + f\"with shape in model ({dm[k].shape})\"\n",
    "            )\n",
    "            del d[k]\n",
    "    model.load_state_dict(d, strict=False)\n",
    "    print(\n",
    "        f\"Mismatched keys in ckpt and model: \",\n",
    "        set(d.keys()) ^ set(dm.keys()),\n",
    "    )\n",
    "    print(f\"Loaded pretrained model from {pretrained_ckpt}\")\n",
    "    return model"
   ]
  },
  {
   "cell_type": "code",
   "execution_count": 21,
   "id": "dd1d531a",
   "metadata": {},
   "outputs": [],
   "source": [
    "device = args.device"
   ]
  },
  {
   "cell_type": "code",
   "execution_count": null,
   "id": "1a651b08",
   "metadata": {},
   "outputs": [],
   "source": [
    "model = load_model(model_name)"
   ]
  },
  {
   "cell_type": "code",
   "execution_count": 23,
   "id": "6ebfd77d",
   "metadata": {},
   "outputs": [],
   "source": [
    "from main import *"
   ]
  },
  {
   "cell_type": "code",
   "execution_count": 24,
   "id": "38807b57",
   "metadata": {},
   "outputs": [],
   "source": [
    "diffusion = GuassianDiffusion(args.diffusion_steps, device)\n",
    "# optimizer = torch.optim.AdamW(model.parameters(), lr=args.lr)"
   ]
  },
  {
   "cell_type": "code",
   "execution_count": 25,
   "id": "8ce82fa5",
   "metadata": {},
   "outputs": [],
   "source": [
    "ngpus = torch.cuda.device_count()"
   ]
  },
  {
   "cell_type": "code",
   "execution_count": 26,
   "id": "fbf67e09",
   "metadata": {
    "scrolled": true
   },
   "outputs": [],
   "source": [
    "torch.distributed.init_process_group(backend=\"nccl\", init_method=\"env://\")\n",
    "# model = DDP(model, device_ids=[args.local_rank], output_device=args.local_rank)"
   ]
  },
  {
   "cell_type": "code",
   "execution_count": 27,
   "id": "af2b7c0a",
   "metadata": {},
   "outputs": [],
   "source": [
    "args.device = device"
   ]
  },
  {
   "cell_type": "code",
   "execution_count": 28,
   "id": "79a5a6f2",
   "metadata": {},
   "outputs": [],
   "source": [
    "args.ddim_from = True\n",
    "args.ddim_to = True"
   ]
  },
  {
   "cell_type": "code",
   "execution_count": 29,
   "id": "94c5390f",
   "metadata": {},
   "outputs": [],
   "source": [
    "def sample_N_images_with_attribute_switching(\n",
    "    N,\n",
    "    model,\n",
    "    diffusion,\n",
    "    xT=None,\n",
    "    sampling_steps=250,\n",
    "    batch_size=64,\n",
    "    num_channels=3,\n",
    "    image_size=32,\n",
    "    num_classes=None,\n",
    "    args=None,\n",
    "    time = 750,\n",
    "    image_from = None\n",
    "):\n",
    "    \"\"\"use this function to sample any number of images from a given\n",
    "        diffusion model and diffusion process.\n",
    "\n",
    "    Args:\n",
    "        N : Number of images\n",
    "        model : Diffusion model\n",
    "        diffusion : Diffusion process\n",
    "        xT : Starting instantiation of noise vector.\n",
    "        sampling_steps : Number of sampling steps.\n",
    "        batch_size : Batch-size for sampling.\n",
    "        num_channels : Number of channels in the image.\n",
    "        image_size : Image size (assuming square images).\n",
    "        num_classes : Number of classes in the dataset (needed for class-conditioned models)\n",
    "        args : All args from the argparser.\n",
    "\n",
    "    Returns: Numpy array with N images and corresponding labels.\n",
    "    \"\"\"\n",
    "    samples_orig, samples_other, labels, num_samples = [], [], [], 0\n",
    "    num_processes, group = dist.get_world_size(), dist.group.WORLD\n",
    "    with tqdm(total=math.ceil(N / (args.batch_size * num_processes))) as pbar:\n",
    "        while num_samples < N:\n",
    "            if xT is None:\n",
    "                xT = (\n",
    "                    torch.randn(batch_size, num_channels, image_size, image_size)\n",
    "                    .float()\n",
    "                    .to(args.device)\n",
    "                )\n",
    "            if args.class_cond:\n",
    "                if image_from == None:\n",
    "                    y = torch.randint(num_classes, (len(xT),), dtype=torch.int64).to(\n",
    "                        args.device\n",
    "                    )\n",
    "                else:\n",
    "                    y = torch.ones((len(xT),), dtype=torch.int64).to(\n",
    "                        args.device\n",
    "                    ) * image_from\n",
    "            else:\n",
    "                y = None\n",
    "                \n",
    "            gen_images_t = diffusion.sample_from_reverse_process(\n",
    "                model, xT, sampling_steps, {\"y\": y}, args.ddim_from, time = time\n",
    "            )\n",
    "            gen_images_orig = diffusion.sample_remain_from_reverse_process(model, gen_images_t, sampling_steps, {\"y\": y}, args.ddim_to, time = time, time_prev = None)\n",
    "            y_new = torch.tensor(y == 0, dtype = int) \n",
    "            gen_images_other = diffusion.sample_remain_from_reverse_process(model, gen_images_t, sampling_steps, {\"y\": y_new}, args.ddim_to, time = time, time_prev = None)\n",
    "            \n",
    "            samples_list_orig = [torch.zeros_like(gen_images_orig) for _ in range(num_processes)]\n",
    "            samples_list_other = [torch.zeros_like(gen_images_other) for _ in range(num_processes)]\n",
    "            \n",
    "            if args.class_cond:\n",
    "                labels_list = [torch.zeros_like(y) for _ in range(num_processes)]\n",
    "                dist.all_gather(labels_list, y, group)\n",
    "                labels.append(torch.cat(labels_list).detach().cpu().numpy())\n",
    "\n",
    "            dist.all_gather(samples_list_orig, gen_images_orig, group)\n",
    "            dist.all_gather(samples_list_other, gen_images_other, group)\n",
    "            \n",
    "            samples_orig.append(torch.cat(samples_list_orig).detach().cpu().numpy())\n",
    "            samples_other.append(torch.cat(samples_list_other).detach().cpu().numpy())\n",
    "            \n",
    "            num_samples += len(xT) * num_processes\n",
    "            pbar.update(1)\n",
    "    samples_orig = np.concatenate(samples_orig).transpose(0, 2, 3, 1)[:N]\n",
    "    samples_other = np.concatenate(samples_other).transpose(0, 2, 3, 1)[:N]\n",
    "    samples_orig = (127.5 * (samples_orig + 1)).astype(np.uint8)\n",
    "    samples_other = (127.5 * (samples_other + 1)).astype(np.uint8)\n",
    "    return (samples_orig, samples_other, np.concatenate(labels) if args.class_cond else None)\n",
    "\n"
   ]
  },
  {
   "cell_type": "code",
   "execution_count": 30,
   "id": "cff2d08a",
   "metadata": {},
   "outputs": [],
   "source": [
    "import PIL.Image"
   ]
  },
  {
   "cell_type": "code",
   "execution_count": null,
   "id": "12a5272c",
   "metadata": {},
   "outputs": [],
   "source": [
    "model = load_model(model_name)\n",
    "metadata = get_metadata('celeba')\n",
    "metadata.num_classes = 2"
   ]
  },
  {
   "cell_type": "code",
   "execution_count": 33,
   "id": "e7fc281c",
   "metadata": {},
   "outputs": [
    {
     "name": "stderr",
     "output_type": "stream",
     "text": [
      "100%|█████████████████████████████████████████████████████████████████████████████████████| 1/1 [00:31<00:00, 31.42s/it]\n"
     ]
    },
    {
     "name": "stdout",
     "output_type": "stream",
     "text": [
      "Done.\n"
     ]
    },
    {
     "name": "stderr",
     "output_type": "stream",
     "text": [
      "100%|█████████████████████████████████████████████████████████████████████████████████████| 1/1 [00:28<00:00, 28.70s/it]"
     ]
    },
    {
     "name": "stdout",
     "output_type": "stream",
     "text": [
      "Done.\n"
     ]
    },
    {
     "name": "stderr",
     "output_type": "stream",
     "text": [
      "\n"
     ]
    }
   ],
   "source": [
    "args.batch_size = 30\n",
    "seed = 0\n",
    "gridw=6\n",
    "gridh=5\n",
    "for time in [640]:\n",
    "    for image_from in [0, 1]:\n",
    "        torch.manual_seed(seed)\n",
    "        name = 'tmp'\n",
    "        samples_orig, samples_other, labels = sample_N_images_with_attribute_switching(\n",
    "                args.batch_size,\n",
    "                model,\n",
    "                diffusion,\n",
    "                None,\n",
    "                args.sampling_steps,\n",
    "                args.batch_size,\n",
    "                metadata.num_channels,\n",
    "                metadata.image_size,\n",
    "                metadata.num_classes,\n",
    "                args,\n",
    "                time,\n",
    "                image_from = image_from\n",
    "\n",
    "            )\n",
    "        image_list = [samples_orig, samples_other]\n",
    "        name_list = ['_orig_%s'%image_from, '_switch_%s'%((image_from+1)%2)]\n",
    "        for i in range(2):\n",
    "            dest_path = name + name_list[i] + '.pdf'\n",
    "            image = image_list[i]\n",
    "            image = torch.tensor(image.reshape(gridh, gridw, *image.shape[1:]))\n",
    "            image = image.permute(0, 2, 1, 3, 4)\n",
    "            image = image.numpy()\n",
    "            image = image.reshape(gridh * metadata.image_size, gridw * metadata.image_size, metadata.num_channels)\n",
    "            PIL.Image.fromarray(image, 'RGB').save(dest_path)\n",
    "        print('Done.')"
   ]
  }
 ],
 "metadata": {
  "kernelspec": {
   "display_name": "torch13",
   "language": "python",
   "name": "uzntorch13"
  },
  "language_info": {
   "codemirror_mode": {
    "name": "ipython",
    "version": 3
   },
   "file_extension": ".py",
   "mimetype": "text/x-python",
   "name": "python",
   "nbconvert_exporter": "python",
   "pygments_lexer": "ipython3",
   "version": "3.8.18"
  }
 },
 "nbformat": 4,
 "nbformat_minor": 5
}
