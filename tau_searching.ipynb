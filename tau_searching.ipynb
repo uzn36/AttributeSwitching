{
 "cells": [
  {
   "cell_type": "code",
   "execution_count": 1,
   "id": "8498487a",
   "metadata": {},
   "outputs": [],
   "source": [
    "import argparse"
   ]
  },
  {
   "cell_type": "code",
   "execution_count": 2,
   "id": "8e550ab4",
   "metadata": {},
   "outputs": [],
   "source": [
    "import os\n",
    "import numpy as np\n",
    "import torch\n",
    "import warnings\n",
    "import argparse\n",
    "import sys"
   ]
  },
  {
   "cell_type": "code",
   "execution_count": 3,
   "id": "4a1dabfd",
   "metadata": {},
   "outputs": [],
   "source": [
    "from main import *"
   ]
  },
  {
   "cell_type": "code",
   "execution_count": 4,
   "id": "42fa22da",
   "metadata": {},
   "outputs": [],
   "source": [
    "def parse_args():\n",
    "    parser = argparse.ArgumentParser(description='.')\n",
    "    parser.add_argument(\"--arch\", type=str, help=\"Neural network architecture\")\n",
    "    parser.add_argument(\n",
    "        \"--class-cond\",\n",
    "        action=\"store_true\",\n",
    "        default=False,\n",
    "        help=\"train class-conditioned diffusion model\",\n",
    "    )\n",
    "    parser.add_argument(\n",
    "        \"--diffusion-steps\",\n",
    "        type=int,\n",
    "        default=1000,\n",
    "        help=\"Number of timesteps in diffusion process\",\n",
    "    )\n",
    "    parser.add_argument(\n",
    "        \"--sampling-steps\",\n",
    "        type=int,\n",
    "        default=250,\n",
    "        help=\"Number of timesteps in diffusion process\",\n",
    "    )\n",
    "    parser.add_argument(\n",
    "        \"--ddim\",\n",
    "        action=\"store_true\",\n",
    "        default=False,\n",
    "        help=\"Sampling using DDIM update step\",\n",
    "    )\n",
    "    # dataset\n",
    "    parser.add_argument(\"--dataset\", type=str)\n",
    "    parser.add_argument(\"--data-dir\", type=str, default=\"./dataset/\")\n",
    "    # optimizer\n",
    "    parser.add_argument(\n",
    "        \"--batch-size\", type=int, default=128, help=\"batch-size per gpu\"\n",
    "    )\n",
    "    parser.add_argument(\"--lr\", type=float, default=0.0001)\n",
    "    parser.add_argument(\"--epochs\", type=int, default=500)\n",
    "    parser.add_argument(\"--ema_w\", type=float, default=0.9995)\n",
    "    # sampling/finetuning\n",
    "    parser.add_argument(\"--pretrained-ckpt\", type=str, help=\"Pretrained model ckpt\")\n",
    "    parser.add_argument(\"--delete-keys\", nargs=\"+\", help=\"Pretrained model ckpt\")\n",
    "    parser.add_argument(\n",
    "        \"--sampling-only\",\n",
    "        action=\"store_true\",\n",
    "        default=False,\n",
    "        help=\"No training, just sample images (will save them in --save-dir)\",\n",
    "    )\n",
    "    parser.add_argument(\n",
    "        \"--num-sampled-images\",\n",
    "        type=int,\n",
    "        default=50000,\n",
    "        help=\"Number of images required to sample from the model\",\n",
    "    )\n",
    "\n",
    "    # misc\n",
    "    parser.add_argument(\"--save-dir\", type=str, default=\"./trained_models/\")\n",
    "    parser.add_argument(\"--local_rank\", default=0, type=int)\n",
    "#     parser.add_argument(\"--seed\", default=112233, type=int)\n",
    "\n",
    "    args = parser.parse_args(args=[])\n",
    "    warnings.filterwarnings(\"ignore\")\n",
    "\n",
    "    return args"
   ]
  },
  {
   "cell_type": "code",
   "execution_count": 5,
   "id": "50c866f4",
   "metadata": {},
   "outputs": [],
   "source": [
    "args = parse_args()"
   ]
  },
  {
   "cell_type": "code",
   "execution_count": 6,
   "id": "de55a3e0",
   "metadata": {},
   "outputs": [],
   "source": [
    "args.arch = \"UNet\"\n",
    "args.dataset = \"celeba\" #Enter data name\n",
    "args.epoch = 30  \n",
    "args.save_dir = './models/'\n",
    "args.data_dir = '../data/'\n",
    "args.ddim = True \n",
    "args.epochs = 100\n",
    "args.class_cond = True\n",
    "args.batch_size = 256"
   ]
  },
  {
   "cell_type": "code",
   "execution_count": 7,
   "id": "5a08206b",
   "metadata": {},
   "outputs": [],
   "source": [
    "os.environ[\"RANK\"] = \"0\"\n",
    "os.environ[\"WORLD_SIZE\"] = \"1\"\n",
    "os.environ[\"MASTER_ADDR\"] = \"localhost\"\n",
    "os.environ[\"MASTER_PORT\"] = \"29536\""
   ]
  },
  {
   "cell_type": "code",
   "execution_count": 8,
   "id": "e3b9718d",
   "metadata": {},
   "outputs": [],
   "source": [
    "def cleanup():\n",
    "    dist.destroy_process_group()\n",
    "    \n",
    "# setup(int(os.environ[\"RANK\"]), int(os.environ[\"WORLD_SIZE\"]))"
   ]
  },
  {
   "cell_type": "code",
   "execution_count": 9,
   "id": "2ab6685c",
   "metadata": {},
   "outputs": [],
   "source": [
    "metadata = get_metadata(args.dataset)"
   ]
  },
  {
   "cell_type": "code",
   "execution_count": 10,
   "id": "a6c57c75",
   "metadata": {},
   "outputs": [],
   "source": [
    "metadata.num_classes =  2"
   ]
  },
  {
   "cell_type": "code",
   "execution_count": 11,
   "id": "47f91720",
   "metadata": {
    "scrolled": true
   },
   "outputs": [
    {
     "name": "stdout",
     "output_type": "stream",
     "text": [
      "Namespace(arch='UNet', batch_size=256, class_cond=True, data_dir='../data/', dataset='celeba', ddim=True, delete_keys=None, device='cuda:0', diffusion_steps=1000, ema_w=0.9995, epoch=30, epochs=100, local_rank=0, lr=0.0001, num_sampled_images=50000, pretrained_ckpt=None, sampling_only=False, sampling_steps=250, save_dir='./models/')\n",
      "We are assuming that model input/ouput pixel range is [-1, 1]. Please adhere to it.\n"
     ]
    }
   ],
   "source": [
    "torch.backends.cudnn.benchmark = True\n",
    "args.device = \"cuda:{}\".format(args.local_rank)\n",
    "torch.cuda.set_device(args.device)\n",
    "# torch.manual_seed(args.seed + args.local_rank)\n",
    "# np.random.seed(args.seed + args.local_rank)\n",
    "if args.local_rank == 0:\n",
    "    print(args)\n",
    "\n",
    "# Creat model and diffusion process\n",
    "model = unets.__dict__[args.arch](\n",
    "    image_size=metadata.image_size,\n",
    "    in_channels=metadata.num_channels,\n",
    "    out_channels=metadata.num_channels,\n",
    "    num_classes=metadata.num_classes if args.class_cond else None,\n",
    ").to(args.device)\n",
    "if args.local_rank == 0:\n",
    "    print(\n",
    "        \"We are assuming that model input/ouput pixel range is [-1, 1]. Please adhere to it.\"\n",
    "    )\n",
    "diffusion = GuassianDiffusion(args.diffusion_steps, args.device)\n",
    "optimizer = torch.optim.AdamW(model.parameters(), lr=args.lr)\n"
   ]
  },
  {
   "cell_type": "code",
   "execution_count": 16,
   "id": "3e0ba01b",
   "metadata": {},
   "outputs": [],
   "source": [
    "model_name = \"ENTER_MODEL_NAME.pt\""
   ]
  },
  {
   "cell_type": "code",
   "execution_count": 17,
   "id": "5adda4e1",
   "metadata": {},
   "outputs": [],
   "source": [
    "def load_model(model_name, model_location = './models/'):\n",
    "    model = unets.__dict__[args.arch](\n",
    "        image_size=metadata.image_size,\n",
    "        in_channels=metadata.num_channels,\n",
    "        out_channels=metadata.num_channels,\n",
    "        num_classes=metadata.num_classes if args.class_cond else None,\n",
    "        ).to(device)\n",
    "    pretrained_ckpt = model_location + model_name\n",
    "    print(f\"Loading pretrained model from {pretrained_ckpt}\")\n",
    "    d = fix_legacy_dict(torch.load(pretrained_ckpt, map_location=args.device))\n",
    "    dm = model.state_dict()\n",
    "    if args.delete_keys:\n",
    "        for k in args.delete_keys:\n",
    "            print(\n",
    "                f\"Deleting key {k} becuase its shape in ckpt ({d[k].shape}) doesn't match \"\n",
    "                + f\"with shape in model ({dm[k].shape})\"\n",
    "            )\n",
    "            del d[k]\n",
    "    model.load_state_dict(d, strict=False)\n",
    "    print(\n",
    "        f\"Mismatched keys in ckpt and model: \",\n",
    "        set(d.keys()) ^ set(dm.keys()),\n",
    "    )\n",
    "    print(f\"Loaded pretrained model from {pretrained_ckpt}\")\n",
    "    return model"
   ]
  },
  {
   "cell_type": "code",
   "execution_count": 18,
   "id": "dd1d531a",
   "metadata": {},
   "outputs": [],
   "source": [
    "device = args.device"
   ]
  },
  {
   "cell_type": "code",
   "execution_count": null,
   "id": "c0d3ae55",
   "metadata": {},
   "outputs": [],
   "source": [
    "model = load_model(model_name)"
   ]
  },
  {
   "cell_type": "code",
   "execution_count": 20,
   "id": "38807b57",
   "metadata": {},
   "outputs": [],
   "source": [
    "diffusion = GuassianDiffusion(args.diffusion_steps, device)"
   ]
  },
  {
   "cell_type": "code",
   "execution_count": 21,
   "id": "8ce82fa5",
   "metadata": {},
   "outputs": [],
   "source": [
    "ngpus = torch.cuda.device_count()"
   ]
  },
  {
   "cell_type": "code",
   "execution_count": 22,
   "id": "fbf67e09",
   "metadata": {
    "scrolled": true
   },
   "outputs": [],
   "source": [
    "torch.distributed.init_process_group(backend=\"nccl\", init_method=\"env://\")"
   ]
  },
  {
   "cell_type": "code",
   "execution_count": 23,
   "id": "22f51d45",
   "metadata": {},
   "outputs": [],
   "source": [
    "scalars = diffusion.get_all_scalars(diffusion.alpha_bar_scheduler, 1000, device)"
   ]
  },
  {
   "cell_type": "code",
   "execution_count": 24,
   "id": "2b405a71",
   "metadata": {},
   "outputs": [],
   "source": [
    "def sample_from_reverse_process(\n",
    "    model, xT = None, timesteps=1000, model_kwargs={}, ddim=True\n",
    "):\n",
    "    if xT is None:\n",
    "        xT = (\n",
    "            torch.randn(args.batch_size, metadata.num_channels, metadata.image_size, metadata.image_size)\n",
    "            .float()\n",
    "            .to(args.device)\n",
    "        )\n",
    "    scalars = diffusion.get_all_scalars(diffusion.alpha_bar_scheduler, timesteps, device)\n",
    "    betas = scalars['beta']\n",
    "    alpha_bar = scalars[\"alpha_bar\"]\n",
    "    model.eval()\n",
    "    final = xT\n",
    "    return_list = torch.tensor([])\n",
    "    finals = [final, final]\n",
    "    scores = [0, 0]\n",
    "    \n",
    "    for t in np.arange(timesteps)[::-1]:\n",
    "        with torch.no_grad():\n",
    "            for y_cond in range(2):\n",
    "                y = torch.ones((len(xT),), dtype=torch.int64).to(\n",
    "                    args.device\n",
    "                ) * y_cond\n",
    "                model_kwargs = {\"y\": y}\n",
    "                current_t = torch.tensor([t] * len(xT), device=args.device)\n",
    "                pred_epsilon = model(finals[y_cond], current_t, **model_kwargs)\n",
    "                scores[y_cond] = pred_epsilon#/(1-alpha_bar[t])\n",
    "                pred_x0 = diffusion.get_x0_from_xt_eps(\n",
    "                    finals[y_cond], pred_epsilon, current_t, scalars\n",
    "                )\n",
    "                pred_mean = diffusion.get_pred_mean_from_x0_xt(\n",
    "                    finals[y_cond], pred_x0, current_t, scalars\n",
    "                )\n",
    "                if t == 0:\n",
    "                    finals[y_cond] = pred_mean\n",
    "                else:\n",
    "                    if ddim:\n",
    "                        finals[y_cond] = (\n",
    "                            unsqueeze3x(scalars[\"alpha_bar\"][current_t - 1]).sqrt()\n",
    "                            * pred_x0\n",
    "                            + (\n",
    "                                1 - unsqueeze3x(scalars[\"alpha_bar\"][current_t - 1])\n",
    "                            ).sqrt()\n",
    "                            * pred_epsilon\n",
    "                        )\n",
    "                    else:\n",
    "                        finals[y_cond] = pred_mean + unsqueeze3x(\n",
    "                            scalars.beta_tilde[current_t].sqrt()\n",
    "                        ) * torch.randn_like(finals[y_cond])\n",
    "                finals[y_cond] = finals[y_cond].detach()\n",
    "            return_list = torch.cat([return_list, (betas[t] * (scores[0]-scores[1])).cpu().unsqueeze(dim = 0)])#\n",
    "    return  return_list"
   ]
  },
  {
   "cell_type": "code",
   "execution_count": 25,
   "id": "66051ff8",
   "metadata": {},
   "outputs": [],
   "source": [
    "return_list = sample_from_reverse_process(model)"
   ]
  },
  {
   "cell_type": "code",
   "execution_count": 26,
   "id": "1a5f24bc",
   "metadata": {
    "scrolled": true
   },
   "outputs": [],
   "source": [
    "diff_taus_mean = []\n",
    "for tau in range(0, 1000, 10):\n",
    "    to_tau = torch.sum(return_list[:1000-tau], dim = 0)\n",
    "    from_tau = torch.sum(return_list[1000-tau:], dim = 0)\n",
    "    diff_taus_mean.append(torch.mean(torch.norm(from_tau - to_tau, dim = 0)))\n",
    "#     print(1000-tau, torch.mean(torch.norm(from_tau - to_tau, dim = 0)))"
   ]
  },
  {
   "cell_type": "code",
   "execution_count": 27,
   "id": "a34ca86e",
   "metadata": {
    "scrolled": false
   },
   "outputs": [
    {
     "data": {
      "image/png": "[encoded data removed]",
      "text/plain": [
       "<Figure size 640x480 with 1 Axes>"
      ]
     },
     "metadata": {},
     "output_type": "display_data"
    }
   ],
   "source": [
    "import matplotlib.pyplot as plt\n",
    "plt.plot(range(0, 1000, 10), diff_taus_mean, c = 'r')\n",
    "plt.show()"
   ]
  },
  {
   "cell_type": "code",
   "execution_count": null,
   "id": "704cd74c",
   "metadata": {},
   "outputs": [],
   "source": []
  }
 ],
 "metadata": {
  "kernelspec": {
   "display_name": "torch13",
   "language": "python",
   "name": "uzntorch13"
  },
  "language_info": {
   "codemirror_mode": {
    "name": "ipython",
    "version": 3
   },
   "file_extension": ".py",
   "mimetype": "text/x-python",
   "name": "python",
   "nbconvert_exporter": "python",
   "pygments_lexer": "ipython3",
   "version": "3.8.18"
  }
 },
 "nbformat": 4,
 "nbformat_minor": 5
}
